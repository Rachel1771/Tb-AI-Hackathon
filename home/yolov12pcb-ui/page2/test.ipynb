{
 "cells": [
  {
   "cell_type": "code",
   "execution_count": null,
   "metadata": {},
   "outputs": [],
   "source": [
    "cd workSpace/tb-hackathon/home/yolov12pcb-ui/page2"
   ]
  },
  {
   "cell_type": "code",
   "execution_count": null,
   "metadata": {},
   "outputs": [],
   "source": [
    "!pip install opencv-python==4.9.0.80\n",
    "!pip install ultralytics"
   ]
  },
  {
   "cell_type": "code",
   "execution_count": null,
   "metadata": {},
   "outputs": [],
   "source": [
    "import torch\n",
    "print(f\"PyTorch Version: {torch.__version__}\")"
   ]
  },
  {
   "cell_type": "code",
   "execution_count": null,
   "metadata": {},
   "outputs": [],
   "source": [
    "!pip install TensorRT==8.6.1"
   ]
  },
  {
   "cell_type": "code",
   "execution_count": null,
   "metadata": {},
   "outputs": [],
   "source": [
    "cd "
   ]
  },
  {
   "cell_type": "code",
   "execution_count": null,
   "metadata": {},
   "outputs": [],
   "source": [
    "from ultralytics import YOLO\n",
    " \n",
    "# 加载你训练好的最佳 PyTorch 模型 (.pt)\n",
    "model = YOLO('workSpace/tb-hackathon/home/yolov12pcb-ui/page2/data/best.pt') \n",
    " \n",
    "# 导出为 TensorRT engine，使用动态批次大小\n",
    "print(\"Exporting model to TensorRT with DYNAMIC batch size...\")\n",
    "model.export(\n",
    "    format='engine',    # 指定导出格式为 TensorRT\n",
    "    imgsz=640,          # 指定输入尺寸\n",
    "    half=True,          # 启用 FP16 半精度\n",
    "    dynamic=True,       # <--- THE FIX! This allows variable batch sizes.\n",
    "    device=0            # 指定导出的GPU\n",
    ")\n",
    "print(\"Export complete!\")"
   ]
  }
 ],
 "metadata": {
  "kernelspec": {
   "display_name": "base",
   "language": "python",
   "name": "python3"
  },
  "language_info": {
   "codemirror_mode": {
    "name": "ipython",
    "version": 3
   },
   "file_extension": ".py",
   "mimetype": "text/x-python",
   "name": "python",
   "nbconvert_exporter": "python",
   "pygments_lexer": "ipython3",
   "version": "3.8.10"
  }
 },
 "nbformat": 4,
 "nbformat_minor": 2
}
